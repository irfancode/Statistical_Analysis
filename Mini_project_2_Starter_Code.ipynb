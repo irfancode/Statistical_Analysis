{
 "cells": [
  {
   "attachments": {},
   "cell_type": "markdown",
   "metadata": {},
   "source": [
    "# Mini Project 2 - IU 4.5 Statistical Analysis"
   ]
  },
  {
   "cell_type": "markdown",
   "metadata": {},
   "source": [
    "## Code checked into Github\n",
    "git clone https://github.com/irfancode/Statistical_Analysis"
   ]
  },
  {
   "cell_type": "markdown",
   "metadata": {},
   "source": [
    "## Packages and setup"
   ]
  },
  {
   "cell_type": "code",
   "execution_count": 1,
   "metadata": {},
   "outputs": [],
   "source": [
    "import numpy as np\n",
    "import pandas as pd \n",
    "import seaborn as sns\n",
    "import matplotlib.pyplot as plt\n",
    "import os\n",
    "\n",
    "from scipy.stats import shapiro\n",
    "import scipy.stats as stats\n",
    "\n",
    "#parameter settings\n",
    "from IPython.core.interactiveshell import InteractiveShell\n",
    "InteractiveShell.ast_node_interactivity = \"all\"\n",
    "import warnings\n",
    "warnings.filterwarnings(\"ignore\")\n",
    "warnings.simplefilter(action='ignore', category=FutureWarning)"
   ]
  },
  {
   "cell_type": "markdown",
   "metadata": {},
   "source": [
    "### Reading data and initial processing"
   ]
  },
  {
   "cell_type": "code",
   "execution_count": 2,
   "metadata": {},
   "outputs": [
    {
     "name": "stdout",
     "output_type": "stream",
     "text": [
      "Data types for the data set:\n"
     ]
    },
    {
     "data": {
      "text/plain": [
       "userid             int64\n",
       "version           object\n",
       "sum_gamerounds     int64\n",
       "retention_1         bool\n",
       "retention_7         bool\n",
       "dtype: object"
      ]
     },
     "execution_count": 2,
     "metadata": {},
     "output_type": "execute_result"
    },
    {
     "name": "stdout",
     "output_type": "stream",
     "text": [
      "Shape of the data i.e. no. of rows and columns\n"
     ]
    },
    {
     "data": {
      "text/plain": [
       "(90189, 5)"
      ]
     },
     "execution_count": 2,
     "metadata": {},
     "output_type": "execute_result"
    },
    {
     "name": "stdout",
     "output_type": "stream",
     "text": [
      "First 5 rows of the raw data:\n"
     ]
    },
    {
     "data": {
      "text/html": [
       "<div>\n",
       "<style scoped>\n",
       "    .dataframe tbody tr th:only-of-type {\n",
       "        vertical-align: middle;\n",
       "    }\n",
       "\n",
       "    .dataframe tbody tr th {\n",
       "        vertical-align: top;\n",
       "    }\n",
       "\n",
       "    .dataframe thead th {\n",
       "        text-align: right;\n",
       "    }\n",
       "</style>\n",
       "<table border=\"1\" class=\"dataframe\">\n",
       "  <thead>\n",
       "    <tr style=\"text-align: right;\">\n",
       "      <th></th>\n",
       "      <th>userid</th>\n",
       "      <th>version</th>\n",
       "      <th>sum_gamerounds</th>\n",
       "      <th>retention_1</th>\n",
       "      <th>retention_7</th>\n",
       "    </tr>\n",
       "  </thead>\n",
       "  <tbody>\n",
       "    <tr>\n",
       "      <th>0</th>\n",
       "      <td>116</td>\n",
       "      <td>gate_30</td>\n",
       "      <td>3</td>\n",
       "      <td>False</td>\n",
       "      <td>False</td>\n",
       "    </tr>\n",
       "    <tr>\n",
       "      <th>1</th>\n",
       "      <td>337</td>\n",
       "      <td>gate_30</td>\n",
       "      <td>38</td>\n",
       "      <td>True</td>\n",
       "      <td>False</td>\n",
       "    </tr>\n",
       "    <tr>\n",
       "      <th>2</th>\n",
       "      <td>377</td>\n",
       "      <td>gate_40</td>\n",
       "      <td>165</td>\n",
       "      <td>True</td>\n",
       "      <td>False</td>\n",
       "    </tr>\n",
       "    <tr>\n",
       "      <th>3</th>\n",
       "      <td>483</td>\n",
       "      <td>gate_40</td>\n",
       "      <td>1</td>\n",
       "      <td>False</td>\n",
       "      <td>False</td>\n",
       "    </tr>\n",
       "    <tr>\n",
       "      <th>4</th>\n",
       "      <td>488</td>\n",
       "      <td>gate_40</td>\n",
       "      <td>179</td>\n",
       "      <td>True</td>\n",
       "      <td>True</td>\n",
       "    </tr>\n",
       "  </tbody>\n",
       "</table>\n",
       "</div>"
      ],
      "text/plain": [
       "   userid  version  sum_gamerounds  retention_1  retention_7\n",
       "0     116  gate_30               3        False        False\n",
       "1     337  gate_30              38         True        False\n",
       "2     377  gate_40             165         True        False\n",
       "3     483  gate_40               1        False        False\n",
       "4     488  gate_40             179         True         True"
      ]
     },
     "execution_count": 2,
     "metadata": {},
     "output_type": "execute_result"
    }
   ],
   "source": [
    "#Read data using pandas\n",
    "#user_df=pd.read_excel(\"./Mini_project_2_Data.xls\")\n",
    "\n",
    "user_df=pd.read_csv(\"./Mini_project_2_Data.xls\")\n",
    "\n",
    "#Check data types of each column using \"dtypes\" function\n",
    "print(\"Data types for the data set:\")\n",
    "user_df.dtypes\n",
    "\n",
    "#Check dimension of data i.e. # of rows and #column using pandas \"shape\" funtion\n",
    "print(\"Shape of the data i.e. no. of rows and columns\")\n",
    "user_df.shape\n",
    "\n",
    "#display first 5 rows of the data using \"head\" function\n",
    "print(\"First 5 rows of the raw data:\")\n",
    "user_df.head(5)"
   ]
  },
  {
   "cell_type": "markdown",
   "metadata": {},
   "source": [
    "## Exercise"
   ]
  },
  {
   "cell_type": "markdown",
   "metadata": {},
   "source": [
    "## Q1. Detect and resolve problems in the data (Missing value, Outliers, etc.)"
   ]
  },
  {
   "cell_type": "markdown",
   "metadata": {},
   "source": [
    "### Q1.1 Identify missing value"
   ]
  },
  {
   "cell_type": "code",
   "execution_count": 3,
   "metadata": {},
   "outputs": [
    {
     "data": {
      "text/plain": [
       "userid            0\n",
       "version           0\n",
       "sum_gamerounds    0\n",
       "retention_1       0\n",
       "retention_7       0\n",
       "dtype: int64"
      ]
     },
     "execution_count": 3,
     "metadata": {},
     "output_type": "execute_result"
    }
   ],
   "source": [
    "#Check for any missing values in the data using isnull() function\n",
    "user_df.isnull().sum()\n"
   ]
  },
  {
   "cell_type": "markdown",
   "metadata": {},
   "source": [
    "### Q1.2 Identify outliers"
   ]
  },
  {
   "cell_type": "code",
   "execution_count": 4,
   "metadata": {},
   "outputs": [
    {
     "data": {
      "image/png": "[encoded data removed]",
      "text/plain": [
       "<Figure size 432x288 with 1 Axes>"
      ]
     },
     "metadata": {
      "needs_background": "light"
     },
     "output_type": "display_data"
    }
   ],
   "source": [
    "#Check for outlier values in sum_gamerounds column\n",
    "plt.title(\"Total gamerounds played\")\n",
    "plt.xlabel(\"Index\")\n",
    "plt.ylabel(\"sum_gamerounds\")\n",
    "plt.plot(user_df.sum_gamerounds);"
   ]
  },
  {
   "cell_type": "code",
   "execution_count": 5,
   "metadata": {},
   "outputs": [
    {
     "name": "stdout",
     "output_type": "stream",
     "text": [
      "The outlier is with value of:  49854  and the index is  57702\n"
     ]
    }
   ],
   "source": [
    "#Based on the plot, filter out the outlier from sum_gamerounds played; Use max() fucntion to find the index of the outlier\n",
    "outlier_val = user_df.sum_gamerounds.max()\n",
    "outlier_ind = user_df.index[user_df['sum_gamerounds']==user_df['sum_gamerounds'].max()][0]\n",
    "print(\"The outlier is with value of: \", outlier_val , \" and the index is \", outlier_ind)"
   ]
  },
  {
   "cell_type": "code",
   "execution_count": 6,
   "metadata": {},
   "outputs": [
    {
     "data": {
      "image/png": "[encoded data removed]",
      "text/plain": [
       "<Figure size 432x288 with 1 Axes>"
      ]
     },
     "metadata": {
      "needs_background": "light"
     },
     "output_type": "display_data"
    }
   ],
   "source": [
    "#Plot the graph for sum_gamerounds player after removing the outlier\n",
    "plt.title(\"Total gamerounds played\")\n",
    "plt.xlabel(\"Index\")\n",
    "plt.ylabel(\"sum_gamerounds\")\n",
    "user_df.drop(index=outlier_ind, inplace = True)\n",
    "plt.plot(user_df.sum_gamerounds);"
   ]
  },
  {
   "cell_type": "markdown",
   "metadata": {},
   "source": [
    "## Q2. Plot summary statistics and identify trends to answer basis business questions"
   ]
  },
  {
   "cell_type": "markdown",
   "metadata": {},
   "source": [
    "### Q2.1 What is the overall 7-day retention rate of the game?"
   ]
  },
  {
   "cell_type": "code",
   "execution_count": 7,
   "metadata": {},
   "outputs": [
    {
     "name": "stdout",
     "output_type": "stream",
     "text": [
      "Overal 7 days retention rate of the game for both versions is:  18.61 %\n"
     ]
    }
   ],
   "source": [
    "#Insert calculation for 7-day retention rate\n",
    "\n",
    "rows, column        = user_df.shape\n",
    "f_val, t_val        = user_df.retention_7.value_counts()\n",
    "retention_rate_7    = t_val / rows * 100\n",
    "\n",
    "print(\"Overal 7 days retention rate of the game for both versions is: \" , round(retention_rate_7, 2) ,\"%\")"
   ]
  },
  {
   "cell_type": "markdown",
   "metadata": {},
   "source": [
    "### Q2.2 How many players never played the game after installing? "
   ]
  },
  {
   "cell_type": "code",
   "execution_count": 8,
   "metadata": {},
   "outputs": [
    {
     "name": "stdout",
     "output_type": "stream",
     "text": [
      "Number of player never played after installing the game = 3994\n"
     ]
    }
   ],
   "source": [
    "# Find number of customers with sum_gamerounds is equal to zero\n",
    "print(\"Number of player never played after installing the game =\", (user_df.sum_gamerounds==0).sum())"
   ]
  },
  {
   "cell_type": "markdown",
   "metadata": {},
   "source": [
    "### Q2.3 Does the number of users decrease as the level progresses highlighting the difficulty of the game?"
   ]
  },
  {
   "cell_type": "code",
   "execution_count": 9,
   "metadata": {},
   "outputs": [
    {
     "name": "stdout",
     "output_type": "stream",
     "text": [
      "Total numbers of users for the first 200 gamerounds  84966\n"
     ]
    },
    {
     "data": {
      "image/png": "[encoded data removed]",
      "text/plain": [
       "<Figure size 432x288 with 1 Axes>"
      ]
     },
     "metadata": {
      "needs_background": "light"
     },
     "output_type": "display_data"
    }
   ],
   "source": [
    "#Group by sum_gamerounds and count the number of users for the first 200 gamerounds\n",
    "#Use plot() function on the summarized stats to visualize the chart\n",
    "\n",
    "print('Total numbers of users for the first 200 gamerounds ',user_df.query('sum_gamerounds <= 200').count()['userid'])\n",
    "\n",
    "plt.title(\"Total gamerounds played\")\n",
    "plt.xlabel(\"Game Level\")\n",
    "plt.ylabel(\"No. of Users\")\n",
    "plt.plot(user_df.groupby(['sum_gamerounds']).count().query('sum_gamerounds <= 200'));\n"
   ]
  },
  {
   "cell_type": "markdown",
   "metadata": {},
   "source": [
    "## Q3. Generate crosstab for two groups of players to understand if there is a difference in 7 days retention rate & total number of game rounds played"
   ]
  },
  {
   "cell_type": "markdown",
   "metadata": {},
   "source": [
    "### Q3.1 Seven days retention rate summary for different game versions"
   ]
  },
  {
   "cell_type": "code",
   "execution_count": 10,
   "metadata": {},
   "outputs": [
    {
     "data": {
      "text/html": [
       "<div>\n",
       "<style scoped>\n",
       "    .dataframe tbody tr th:only-of-type {\n",
       "        vertical-align: middle;\n",
       "    }\n",
       "\n",
       "    .dataframe tbody tr th {\n",
       "        vertical-align: top;\n",
       "    }\n",
       "\n",
       "    .dataframe thead th {\n",
       "        text-align: right;\n",
       "    }\n",
       "</style>\n",
       "<table border=\"1\" class=\"dataframe\">\n",
       "  <thead>\n",
       "    <tr style=\"text-align: right;\">\n",
       "      <th>retention_7</th>\n",
       "      <th>False</th>\n",
       "      <th>True</th>\n",
       "    </tr>\n",
       "    <tr>\n",
       "      <th>version</th>\n",
       "      <th></th>\n",
       "      <th></th>\n",
       "    </tr>\n",
       "  </thead>\n",
       "  <tbody>\n",
       "    <tr>\n",
       "      <th>gate_30</th>\n",
       "      <td>0.809817</td>\n",
       "      <td>0.190183</td>\n",
       "    </tr>\n",
       "    <tr>\n",
       "      <th>gate_40</th>\n",
       "      <td>0.818000</td>\n",
       "      <td>0.182000</td>\n",
       "    </tr>\n",
       "  </tbody>\n",
       "</table>\n",
       "</div>"
      ],
      "text/plain": [
       "retention_7     False      True\n",
       "version                        \n",
       "gate_30      0.809817  0.190183\n",
       "gate_40      0.818000  0.182000"
      ]
     },
     "execution_count": 10,
     "metadata": {},
     "output_type": "execute_result"
    },
    {
     "data": {
      "text/plain": [
       "0        gate_30\n",
       "1        gate_30\n",
       "2        gate_40\n",
       "3        gate_40\n",
       "4        gate_40\n",
       "          ...   \n",
       "90184    gate_40\n",
       "90185    gate_40\n",
       "90186    gate_30\n",
       "90187    gate_40\n",
       "90188    gate_40\n",
       "Name: version, Length: 90188, dtype: object"
      ]
     },
     "execution_count": 10,
     "metadata": {},
     "output_type": "execute_result"
    }
   ],
   "source": [
    "#Create cross tab for game version and retention_7 flag counting number of users for each possible categories\n",
    "\n",
    "pd.crosstab(user_df.version, user_df.retention_7).apply(lambda r: r/r.sum(), axis=1)\n",
    "\n",
    "user_df.version"
   ]
  },
  {
   "cell_type": "markdown",
   "metadata": {},
   "source": [
    "<mark>__Analsysis Results:__\n",
    "    \n",
    "Type your interpretation here from the crosstab generated above   "
   ]
  },
  {
   "cell_type": "markdown",
   "metadata": {},
   "source": [
    "### Q3.2 Gamerounds summary for different game versions"
   ]
  },
  {
   "cell_type": "code",
   "execution_count": 11,
   "metadata": {},
   "outputs": [
    {
     "name": "stdout",
     "output_type": "stream",
     "text": [
      "Average game rounds played by Gate 30 versions is 51.34\n",
      "Average game rounds played by Gate 40 versions is 51.3\n"
     ]
    }
   ],
   "source": [
    "#use pandas group by to calculate average game rounds played summarized by different versions\n",
    "\n",
    "print(\"Average game rounds played by Gate 30 versions is\", round(user_df[user_df.version==\"gate_30\"].mean()[1],2))\n",
    "print(\"Average game rounds played by Gate 40 versions is\", round(user_df[user_df.version==\"gate_40\"].mean()[1],2))"
   ]
  },
  {
   "cell_type": "markdown",
   "metadata": {},
   "source": [
    "<mark>__Analsysis Results:__\n",
    "    \n",
    "Do total number of gamerounds played in total by each player differ based on  different versions of the game? "
   ]
  },
  {
   "cell_type": "markdown",
   "metadata": {},
   "source": [
    "## Q4. Perform two-sample test for groups A and B to test statistical significance amongst the groups in the sum of game rounds played i.e., if groups A and B are statistically different"
   ]
  },
  {
   "cell_type": "markdown",
   "metadata": {},
   "source": [
    "### Initial data processing"
   ]
  },
  {
   "cell_type": "code",
   "execution_count": 12,
   "metadata": {},
   "outputs": [],
   "source": [
    "#Define A/B groups for hypothesis testing\n",
    "#user_df[\"version\"] = np.where(user_df.version == \"gate_30\", \"A\", \"B\")\n",
    "group_A=pd.DataFrame(user_df[user_df.version==\"gate_30\"]['sum_gamerounds'])\n",
    "group_B=pd.DataFrame(user_df[user_df.version==\"gate_40\"]['sum_gamerounds'])"
   ]
  },
  {
   "cell_type": "markdown",
   "metadata": {},
   "source": [
    "### Q4.1 Shapiro test of Normality"
   ]
  },
  {
   "cell_type": "code",
   "execution_count": 13,
   "metadata": {},
   "outputs": [
    {
     "data": {
      "text/plain": [
       "ShapiroResult(statistic=0.48864424228668213, pvalue=0.0)"
      ]
     },
     "execution_count": 13,
     "metadata": {},
     "output_type": "execute_result"
    },
    {
     "data": {
      "text/plain": [
       "ShapiroResult(statistic=0.4825654625892639, pvalue=0.0)"
      ]
     },
     "execution_count": 13,
     "metadata": {},
     "output_type": "execute_result"
    },
    {
     "name": "stdout",
     "output_type": "stream",
     "text": [
      "Both test shows the p-value less than 0.5, hence test rejects, data does not fit the normal distribution.\n"
     ]
    }
   ],
   "source": [
    "#---------------------- Shapiro Test ----------------------\n",
    "# NULL Hypothesis H0: Distribution is normal\n",
    "# ALTERNATE Hypothesis H1: Distribution is not normal    \n",
    "\n",
    "#test for group_A\n",
    "stats.shapiro(group_A.sum_gamerounds)\n",
    "\n",
    "#test for group_B\n",
    "stats.shapiro(group_B.sum_gamerounds)\n",
    "\n",
    "print(\"Both test shows the p-value less than 0.5, hence test rejects, data does not fit the normal distribution.\")\n"
   ]
  },
  {
   "cell_type": "markdown",
   "metadata": {},
   "source": [
    "<mark>__Analsysis Results:__\n",
    "    \n",
    "__Type your answer here:__ Analyze and interpret the results of shapiro test of normality i.e. are the two groups normally distributed?"
   ]
  },
  {
   "cell_type": "markdown",
   "metadata": {},
   "source": [
    "### Q4.2 Test of homegienity of variance"
   ]
  },
  {
   "cell_type": "code",
   "execution_count": 14,
   "metadata": {},
   "outputs": [
    {
     "data": {
      "text/plain": [
       "LeveneResult(statistic=0.07510153837481241, pvalue=0.7840494387892463)"
      ]
     },
     "execution_count": 14,
     "metadata": {},
     "output_type": "execute_result"
    }
   ],
   "source": [
    "#---------------------- Leven's Test ----------------------\n",
    "# NULL Hypothesis H0: Two groups have equal variances\n",
    "# ALTERNATE Hypothesis H1: Two groups do not have equal variances\n",
    "\n",
    "#perform levene's test and accept or reject the null hypothesis based on the results\n",
    "\n",
    "stats.levene(group_A.sum_gamerounds, group_B.sum_gamerounds, center= 'median')\n",
    "\n"
   ]
  },
  {
   "cell_type": "markdown",
   "metadata": {},
   "source": [
    "<mark>__Analsysis Results:__\n",
    "    \n",
    "__Type your answer here:__ Write your final recommendation from the results of Levene's test"
   ]
  },
  {
   "cell_type": "markdown",
   "metadata": {},
   "source": [
    "### Q4.3 Test of significance: Two sample test"
   ]
  },
  {
   "cell_type": "code",
   "execution_count": 15,
   "metadata": {},
   "outputs": [
    {
     "data": {
      "text/plain": [
       "(0.0633675766982082, 0.9494738053904274)"
      ]
     },
     "execution_count": 15,
     "metadata": {},
     "output_type": "execute_result"
    }
   ],
   "source": [
    "#---------------------- Two samples test ----------------------\n",
    "# NULL Hypothesis H0: Two samples are equal\n",
    "# ALTERNATE Hypothesis H1: Two samples are different\n",
    "\n",
    "#Apply relevant two sample test to accept or reject the NULL hypothesis\n",
    "\n",
    "from statsmodels.stats import weightstats as stests\n",
    "stests.ztest(x1 = group_A.sum_gamerounds ,x2 = group_B.sum_gamerounds)"
   ]
  },
  {
   "cell_type": "markdown",
   "metadata": {},
   "source": [
    "<mark>__Analsysis Results:__\n",
    "    \n",
    "__Type your answer here:__ Write your final recommendation from the results of two sample hyothesis testing"
   ]
  },
  {
   "cell_type": "markdown",
   "metadata": {},
   "source": [
    "## Q5. Based on significance testing results, if groups A and B are statistically different, which level has more advantage in terms of player retention and number of game rounds played"
   ]
  },
  {
   "cell_type": "code",
   "execution_count": 16,
   "metadata": {},
   "outputs": [
    {
     "data": {
      "text/plain": [
       "version  retention_1\n",
       "gate_30  False          55.180205\n",
       "         True           44.819795\n",
       "gate_40  False          56.757422\n",
       "         True           45.009955\n",
       "Name: userid, dtype: float64"
      ]
     },
     "execution_count": 16,
     "metadata": {},
     "output_type": "execute_result"
    },
    {
     "data": {
      "text/plain": [
       "version  retention_7\n",
       "gate_30  False          79.575282\n",
       "         True           18.688034\n",
       "gate_40  False          81.799996\n",
       "         True           18.200004\n",
       "Name: userid, dtype: float64"
      ]
     },
     "execution_count": 16,
     "metadata": {},
     "output_type": "execute_result"
    },
    {
     "name": "stdout",
     "output_type": "stream",
     "text": [
      "Group A size: 44699\n",
      "Group B size: 45489\n"
     ]
    }
   ],
   "source": [
    "#Analyze the 1 day and 7 days retention rate for two different groups using group by function\n",
    "Asum = group_A.shape[0]\n",
    "Bsum = group_B.shape[0]\n",
    "\n",
    "user_df.groupby(['version','retention_1'])['userid'].count().apply(lambda r: r/Asum*100)\n",
    "user_df.groupby(['version','retention_7'])['userid'].count().apply(lambda r: r/Bsum*100)\n",
    "\n",
    "print('Group A size:', Asum)\n",
    "print('Group B size:', Bsum)"
   ]
  },
  {
   "cell_type": "code",
   "execution_count": 17,
   "metadata": {},
   "outputs": [
    {
     "name": "stdout",
     "output_type": "stream",
     "text": [
      "          userid                                                           \\\n",
      "           count          mean           std    min        25%        50%   \n",
      "version                                                                     \n",
      "gate_30  44699.0  4.987532e+06  2.881051e+06  116.0  2505463.0  4983630.0   \n",
      "gate_40  45489.0  5.009073e+06  2.885496e+06  377.0  2517171.0  5007329.0   \n",
      "\n",
      "                              sum_gamerounds                                   \\\n",
      "               75%        max          count       mean         std  min  25%   \n",
      "version                                                                         \n",
      "gate_30  7481522.5  9999710.0        44699.0  51.342111  102.057598  0.0  5.0   \n",
      "gate_40  7510762.0  9999861.0        45489.0  51.298776  103.294416  0.0  5.0   \n",
      "\n",
      "                             \n",
      "          50%   75%     max  \n",
      "version                      \n",
      "gate_30  17.0  50.0  2961.0  \n",
      "gate_40  16.0  52.0  2640.0  \n"
     ]
    }
   ],
   "source": [
    "#Additional check: Checking std and mean\n",
    "box_df = user_df.groupby('version').describe()\n",
    "print(box_df)\n"
   ]
  },
  {
   "cell_type": "code",
   "execution_count": 18,
   "metadata": {},
   "outputs": [],
   "source": [
    "#Additional check: Check p-value using pg\n",
    "import pingouin as pg\n",
    "res = pg.ttest(group_A.sum_gamerounds, group_B.sum_gamerounds, correction=False)\n"
   ]
  },
  {
   "cell_type": "markdown",
   "metadata": {},
   "source": [
    "<mark>__Analsysis Results:__\n",
    "    \n",
    "__Type your answer here:__ Write your final recommendation to the company regarding which level works best as the first gate  - Level 30 or Level 40"
   ]
  },
  {
   "cell_type": "markdown",
   "metadata": {},
   "source": [
    "## Q6. [Bonus Question]  Using bootstrap resampling, plot the retention rate distribution for both the groups inorder to visualize effect of different version of the game on retention."
   ]
  },
  {
   "cell_type": "code",
   "execution_count": 19,
   "metadata": {},
   "outputs": [
    {
     "name": "stdout",
     "output_type": "stream",
     "text": [
      "the mean of retention in 1 day of version: gate_30 is: 0.44855429205294794\n",
      "the mean of retention in 1 day of version: gate_40 is: 0.4411256001200869\n",
      "the mean of retention in 7 days of version: gate_30 is: 0.19216824957965664\n",
      "the mean of retention in 7 days of version: gate_40 is: 0.17536533459284545\n"
     ]
    }
   ],
   "source": [
    "#Hint: Plot density function\n",
    "#bootstrap\n",
    "\n",
    "import random\n",
    "\n",
    "# Generate Random Data\n",
    "\n",
    "retention1_groupAD = np.random.normal(loc= 0.448198, size=44699)\n",
    "retention1_groupBD = np.random.normal (loc= 0.442283, size=45489)\n",
    "retention7_groupAD = np.random.normal (loc = 0.190183, size = 44699)\n",
    "retention7_groupBD = np.random.normal (loc = 0.182000, size = 45489)\n",
    "print('the mean of retention in 1 day of version: gate_30 is:', np.mean(retention1_groupAD))\n",
    "print('the mean of retention in 1 day of version: gate_40 is:', np.mean(retention1_groupBD))\n",
    "print('the mean of retention in 7 days of version: gate_30 is:', np.mean(retention7_groupAD))\n",
    "print('the mean of retention in 7 days of version: gate_40 is:', np.mean(retention7_groupBD))"
   ]
  },
  {
   "cell_type": "code",
   "execution_count": 20,
   "metadata": {},
   "outputs": [
    {
     "data": {
      "image/png": "[encoded data removed]",
      "text/plain": [
       "<Figure size 432x288 with 1 Axes>"
      ]
     },
     "metadata": {
      "needs_background": "light"
     },
     "output_type": "display_data"
    }
   ],
   "source": [
    "fig = sns.kdeplot(group_A['sum_gamerounds'], shade=True, color=\"r\")\n",
    "fig = sns.kdeplot(group_B['sum_gamerounds'], shade=True, color=\"b\")\n",
    "plt.show()"
   ]
  },
  {
   "cell_type": "code",
   "execution_count": 21,
   "metadata": {},
   "outputs": [
    {
     "name": "stdout",
     "output_type": "stream",
     "text": [
      "the mean of retention in 1 day of version: gate_30 is: 0.4504155119513698\n"
     ]
    }
   ],
   "source": [
    "#Use Bootstrap Sampling to estimate the mean for retention in day 1 on version: gate_30\n",
    "\n",
    "retention1A_mean=[]\n",
    "\n",
    "for retention in user_df.retention_1:\n",
    "   \n",
    "    y = random.sample(retention1_groupAD.tolist(), 1)\n",
    "    avg = np.mean(y)\n",
    "    retention1A_mean.append(avg)\n",
    "    \n",
    "print('the mean of retention in 1 day of version: gate_30 is:', np.mean(retention1A_mean))    "
   ]
  },
  {
   "cell_type": "code",
   "execution_count": 22,
   "metadata": {},
   "outputs": [],
   "source": [
    "#Use Bootstrap Sampling to estimate the mean for retention in day 7 on version: gate_30\n",
    "\n",
    "retention7A_mean=[]\n",
    "\n",
    "for retention in user_df.retention_7:\n",
    "   \n",
    "    y = random.sample(retention7_groupAD.tolist(), 1)\n",
    "    avg = np.mean(y)\n",
    "    retention7A_mean.append(avg)\n",
    "    \n",
    "print('the mean of retention in 1 day of version: gate_40 is:', np.mean(retention7A_mean))    "
   ]
  },
  {
   "cell_type": "code",
   "execution_count": null,
   "metadata": {},
   "outputs": [
    {
     "name": "stdout",
     "output_type": "stream",
     "text": [
      "the mean of retention in 7 days of version: gate_30 is: 0.43884721634717166\n"
     ]
    }
   ],
   "source": [
    "#Use Bootstrap Sampling to estimate the mean for retention in day 1 on version: gate_40\n",
    "\n",
    "retention1B_mean=[] \n",
    "\n",
    "for retention in user_df.retention_1:\n",
    "   \n",
    "    y = random.sample(retention1_groupBD.tolist(), 1)\n",
    "    avg = np.mean(y)\n",
    "    retention1B_mean.append(avg)\n",
    "print('the mean of retention in 7 days of version: gate_30 is:', np.mean(retention1B_mean))    "
   ]
  },
  {
   "cell_type": "code",
   "execution_count": null,
   "metadata": {},
   "outputs": [
    {
     "name": "stdout",
     "output_type": "stream",
     "text": [
      "the mean of retention in 7 days of version: gate_40 is: 0.1814485534956334\n"
     ]
    }
   ],
   "source": [
    "#Use Bootstrap Sampling to estimate the mean for retention in day 7 on version: gate_40\n",
    "retention7B_mean=[]\n",
    "\n",
    "for retention in user_df.retention_7:\n",
    "   \n",
    "    y = random.sample(retention7_groupBD.tolist(), 1)\n",
    "    avg = np.mean(y)\n",
    "    retention7B_mean.append(avg)\n",
    "print('the mean of retention in 7 days of version: gate_40 is:', np.mean(retention7B_mean))    "
   ]
  },
  {
   "cell_type": "code",
   "execution_count": null,
   "metadata": {},
   "outputs": [
    {
     "data": {
      "text/plain": [
       "<AxesSubplot:ylabel='Density'>"
      ]
     },
     "execution_count": 25,
     "metadata": {},
     "output_type": "execute_result"
    },
    {
     "data": {
      "text/plain": [
       "<AxesSubplot:ylabel='Density'>"
      ]
     },
     "execution_count": 25,
     "metadata": {},
     "output_type": "execute_result"
    },
    {
     "data": {
      "image/png": "[encoded data removed]",
      "text/plain": [
       "<Figure size 432x288 with 1 Axes>"
      ]
     },
     "metadata": {
      "needs_background": "light"
     },
     "output_type": "display_data"
    }
   ],
   "source": [
    "#Plot Mean density of retetion for both gate_30 and gate_40 version on 1 day\n",
    "\n",
    "df =sns.load_dataset('tips')\n",
    "\n",
    "sns.kdeplot(retention1A_mean,shade=True,color='r' )\n",
    "sns.kdeplot(retention1B_mean,shade=True,color='b' )\n",
    "\n"
   ]
  },
  {
   "cell_type": "code",
   "execution_count": null,
   "metadata": {},
   "outputs": [
    {
     "data": {
      "text/plain": [
       "<AxesSubplot:ylabel='Density'>"
      ]
     },
     "execution_count": 26,
     "metadata": {},
     "output_type": "execute_result"
    },
    {
     "data": {
      "text/plain": [
       "<AxesSubplot:ylabel='Density'>"
      ]
     },
     "execution_count": 26,
     "metadata": {},
     "output_type": "execute_result"
    },
    {
     "data": {
      "image/png": "[encoded data removed]",
      "text/plain": [
       "<Figure size 432x288 with 1 Axes>"
      ]
     },
     "metadata": {
      "needs_background": "light"
     },
     "output_type": "display_data"
    }
   ],
   "source": [
    "#Plot Mean density of retetion for both gate_30 and gate_40 version on 7 day\n",
    "\n",
    "df =sns.load_dataset('tips')\n",
    "\n",
    "sns.kdeplot(retention7A_mean,shade=True, color='g' )\n",
    "sns.kdeplot(retention7B_mean,shade=True, color='y' )\n",
    "\n"
   ]
  },
  {
   "cell_type": "code",
   "execution_count": null,
   "metadata": {},
   "outputs": [
    {
     "data": {
      "text/plain": [
       "<AxesSubplot:ylabel='Density'>"
      ]
     },
     "execution_count": 27,
     "metadata": {},
     "output_type": "execute_result"
    },
    {
     "data": {
      "text/plain": [
       "<AxesSubplot:ylabel='Density'>"
      ]
     },
     "execution_count": 27,
     "metadata": {},
     "output_type": "execute_result"
    },
    {
     "data": {
      "image/png": "[encoded data removed]",
      "text/plain": [
       "<Figure size 432x288 with 1 Axes>"
      ]
     },
     "metadata": {
      "needs_background": "light"
     },
     "output_type": "display_data"
    }
   ],
   "source": [
    "#Plot Mean density of retetion for both 1day and 7days on gate_30 version to compare the mean\n",
    "\n",
    "df =sns.load_dataset('tips')\n",
    "\n",
    "sns.kdeplot(retention1A_mean,shade=True, color='r' )\n",
    "sns.kdeplot(retention7A_mean,shade=True, color='g' )\n",
    "\n"
   ]
  },
  {
   "cell_type": "code",
   "execution_count": null,
   "metadata": {},
   "outputs": [
    {
     "data": {
      "text/plain": [
       "<AxesSubplot:ylabel='Density'>"
      ]
     },
     "execution_count": 28,
     "metadata": {},
     "output_type": "execute_result"
    },
    {
     "data": {
      "text/plain": [
       "<AxesSubplot:ylabel='Density'>"
      ]
     },
     "execution_count": 28,
     "metadata": {},
     "output_type": "execute_result"
    },
    {
     "data": {
      "image/png": "[encoded data removed]",
      "text/plain": [
       "<Figure size 432x288 with 1 Axes>"
      ]
     },
     "metadata": {
      "needs_background": "light"
     },
     "output_type": "display_data"
    }
   ],
   "source": [
    "#Plot Mean density of retetion for both 1day and 7days on gate_30 version to compare the mean\n",
    "\n",
    "df =sns.load_dataset('tips')\n",
    "\n",
    "sns.kdeplot(retention1B_mean,shade=True, color='b' )\n",
    "sns.kdeplot(retention7B_mean,shade=True, color='y' )\n",
    "\n"
   ]
  }
 ],
 "metadata": {
  "interpreter": {
   "hash": "464b9f48f06afc5cadda0110927a069b7d16681a0bf97916761e3f46508aecb1"
  },
  "kernelspec": {
   "display_name": "Python 3.9.12 ('base')",
   "language": "python",
   "name": "python3"
  },
  "language_info": {
   "codemirror_mode": {
    "name": "ipython",
    "version": 3
   },
   "file_extension": ".py",
   "mimetype": "text/x-python",
   "name": "python",
   "nbconvert_exporter": "python",
   "pygments_lexer": "ipython3",
   "version": "3.9.12"
  }
 },
 "nbformat": 4,
 "nbformat_minor": 4
}
